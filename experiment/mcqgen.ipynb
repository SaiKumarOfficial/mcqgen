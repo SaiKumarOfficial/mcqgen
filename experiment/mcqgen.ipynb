{
 "cells": [
  {
   "cell_type": "code",
   "execution_count": 1,
   "metadata": {},
   "outputs": [],
   "source": [
    "import os\n",
    "import json\n",
    "import pandas as pd\n",
    "import traceback"
   ]
  },
  {
   "cell_type": "code",
   "execution_count": 21,
   "metadata": {},
   "outputs": [
    {
     "data": {
      "text/plain": [
       "True"
      ]
     },
     "execution_count": 21,
     "metadata": {},
     "output_type": "execute_result"
    }
   ],
   "source": [
    "from langchain.llms import GooglePalm\n",
    "from dotenv import load_dotenv\n",
    "\n",
    "load_dotenv() "
   ]
  },
  {
   "cell_type": "code",
   "execution_count": 23,
   "metadata": {},
   "outputs": [],
   "source": [
    "KEY=os.getenv(\"PALM_API_KEY\")"
   ]
  },
  {
   "cell_type": "code",
   "execution_count": 25,
   "metadata": {},
   "outputs": [],
   "source": [
    "llm = GooglePalm(google_api_key=KEY, temperature=0.1)"
   ]
  },
  {
   "cell_type": "code",
   "execution_count": 26,
   "metadata": {},
   "outputs": [],
   "source": [
    "from langchain.prompts import PromptTemplate\n",
    "from langchain.chains import LLMChain\n",
    "from langchain.chains import SequentialChain\n",
    "from langchain.callbacks import get_openai_callback\n",
    "import PyPDF2"
   ]
  },
  {
   "cell_type": "code",
   "execution_count": 27,
   "metadata": {},
   "outputs": [
    {
     "data": {
      "text/plain": [
       "GooglePalm(client=<module 'google.generativeai' from 'c:\\\\Users\\\\Sheela Sai kumar\\\\Documents\\\\GenAI\\\\mcqgen\\\\env\\\\lib\\\\site-packages\\\\google\\\\generativeai\\\\__init__.py'>, google_api_key=SecretStr('**********'), temperature=0.1)"
      ]
     },
     "execution_count": 27,
     "metadata": {},
     "output_type": "execute_result"
    }
   ],
   "source": [
    "llm"
   ]
  },
  {
   "cell_type": "code",
   "execution_count": 29,
   "metadata": {},
   "outputs": [],
   "source": [
    "RESPONSE_JSON = {\n",
    "    \"1\": {\n",
    "        \"mcq\": \"multiple choice question\",\n",
    "        \"options\": {\n",
    "            \"a\": \"choice here\",\n",
    "            \"b\": \"choice here\",\n",
    "            \"c\": \"choice here\",\n",
    "            \"d\": \"choice here\",\n",
    "        },\n",
    "        \"correct\": \"correct answer\",\n",
    "    },\n",
    "    \"2\": {\n",
    "        \"mcq\": \"multiple choice question\",\n",
    "        \"options\": {\n",
    "            \"a\": \"choice here\",\n",
    "            \"b\": \"choice here\",\n",
    "            \"c\": \"choice here\",\n",
    "            \"d\": \"choice here\",\n",
    "        },\n",
    "        \"correct\": \"correct answer\",\n",
    "    },\n",
    "    \"3\": {\n",
    "        \"mcq\": \"multiple choice question\",\n",
    "        \"options\": {\n",
    "            \"a\": \"choice here\",\n",
    "            \"b\": \"choice here\",\n",
    "            \"c\": \"choice here\",\n",
    "            \"d\": \"choice here\",\n",
    "        },\n",
    "        \"correct\": \"correct answer\",\n",
    "    },\n",
    "}"
   ]
  },
  {
   "cell_type": "code",
   "execution_count": 30,
   "metadata": {},
   "outputs": [],
   "source": [
    "TEMPLATE=\"\"\"\n",
    "Text:{text}\n",
    "You are an expert MCQ maker. Given the above text, it is your job to \\\n",
    "create a quiz  of {number} multiple choice questions for {subject} students in {tone} tone. \n",
    "Make sure the questions are not repeated and check all the questions to be conforming the text as well.\n",
    "Make sure to format your response like  RESPONSE_JSON below  and use it as a guide. \\\n",
    "Ensure to make {number} MCQs\n",
    "### RESPONSE_JSON\n",
    "{response_json}\n",
    "\n",
    "\"\"\""
   ]
  },
  {
   "cell_type": "code",
   "execution_count": 31,
   "metadata": {},
   "outputs": [],
   "source": [
    "quiz_generation_prompt = PromptTemplate(\n",
    "    input_variables=[\"text\", \"number\", \"subject\", \"tone\", \"response_json\"],\n",
    "    template=TEMPLATE\n",
    "    )"
   ]
  },
  {
   "cell_type": "code",
   "execution_count": 32,
   "metadata": {},
   "outputs": [],
   "source": [
    "quiz_chain=LLMChain(llm=llm, prompt=quiz_generation_prompt, output_key=\"quiz\", verbose=True)"
   ]
  },
  {
   "cell_type": "code",
   "execution_count": 33,
   "metadata": {},
   "outputs": [],
   "source": [
    "TEMPLATE2=\"\"\"\n",
    "You are an expert english grammarian and writer. Given a Multiple Choice Quiz for {subject} students.\\\n",
    "You need to evaluate the complexity of the question and give a complete analysis of the quiz. Only use at max 50 words for complexity analysis. \n",
    "if the quiz is not at per with the cognitive and analytical abilities of the students,\\\n",
    "update the quiz questions which needs to be changed and change the tone such that it perfectly fits the student abilities\n",
    "Quiz_MCQs:\n",
    "{quiz}\n",
    "\n",
    "Check from an expert English Writer of the above quiz:\n",
    "\"\"\""
   ]
  },
  {
   "cell_type": "code",
   "execution_count": 34,
   "metadata": {},
   "outputs": [],
   "source": [
    "quiz_evaluation_prompt=PromptTemplate(input_variables=[\"subject\", \"quiz\"], template=TEMPLATE)"
   ]
  },
  {
   "cell_type": "code",
   "execution_count": 35,
   "metadata": {},
   "outputs": [],
   "source": [
    "review_chain=LLMChain(llm=llm, prompt=quiz_evaluation_prompt, output_key=\"review\", verbose=True)"
   ]
  },
  {
   "cell_type": "code",
   "execution_count": 36,
   "metadata": {},
   "outputs": [],
   "source": [
    "generate_evaluate_chain=SequentialChain(chains=[quiz_chain, review_chain], input_variables=[\"text\", \"number\", \"subject\", \"tone\", \"response_json\"],\n",
    "                                        output_variables=[\"quiz\", \"review\"], verbose=True,)"
   ]
  },
  {
   "cell_type": "code",
   "execution_count": 38,
   "metadata": {},
   "outputs": [],
   "source": [
    "file_path= r\"C:\\Users\\Sheela Sai kumar\\Documents\\GenAI\\mcqgen\\data.txt\""
   ]
  },
  {
   "cell_type": "code",
   "execution_count": 39,
   "metadata": {},
   "outputs": [
    {
     "data": {
      "text/plain": [
       "'C:\\\\Users\\\\Sheela Sai kumar\\\\Documents\\\\GenAI\\\\mcqgen\\\\data.txt'"
      ]
     },
     "execution_count": 39,
     "metadata": {},
     "output_type": "execute_result"
    }
   ],
   "source": [
    "file_path"
   ]
  },
  {
   "cell_type": "code",
   "execution_count": 40,
   "metadata": {},
   "outputs": [],
   "source": [
    "with open(file_path, 'r') as file:\n",
    "    TEXT = file.read()"
   ]
  },
  {
   "cell_type": "code",
   "execution_count": 41,
   "metadata": {},
   "outputs": [
    {
     "name": "stdout",
     "output_type": "stream",
     "text": [
      "Deep learning is the subset of machine learning methods based on artificial neural networks (ANNs) with representation learning. The adjective \"deep\" refers to the use of multiple layers in the network. Methods used can be either supervised, semi-supervised or unsupervised.[2]\n",
      "\n",
      "Deep-learning architectures such as deep neural networks, deep belief networks, recurrent neural networks, convolutional neural networks and transformers have been applied to fields including computer vision, speech recognition, natural language processing, machine translation, bioinformatics, drug design, medical image analysis, climate science, material inspection and board game programs, where they have produced results comparable to and in some cases surpassing human expert performance.[3][4][5]\n",
      "\n",
      "Artificial neural networks were inspired by information processing and distributed communication nodes in biological systems. ANNs have various differences from biological brains. Specifically, artificial neural networks tend to be static and symbolic, while the biological brain of most living organisms is dynamic (plastic) and analog.[6][7] ANNs are generally seen as low quality models for brain function.\n"
     ]
    }
   ],
   "source": [
    "print(TEXT)"
   ]
  },
  {
   "cell_type": "code",
   "execution_count": 42,
   "metadata": {},
   "outputs": [
    {
     "data": {
      "text/plain": [
       "'{\"1\": {\"mcq\": \"multiple choice question\", \"options\": {\"a\": \"choice here\", \"b\": \"choice here\", \"c\": \"choice here\", \"d\": \"choice here\"}, \"correct\": \"correct answer\"}, \"2\": {\"mcq\": \"multiple choice question\", \"options\": {\"a\": \"choice here\", \"b\": \"choice here\", \"c\": \"choice here\", \"d\": \"choice here\"}, \"correct\": \"correct answer\"}, \"3\": {\"mcq\": \"multiple choice question\", \"options\": {\"a\": \"choice here\", \"b\": \"choice here\", \"c\": \"choice here\", \"d\": \"choice here\"}, \"correct\": \"correct answer\"}}'"
      ]
     },
     "execution_count": 42,
     "metadata": {},
     "output_type": "execute_result"
    }
   ],
   "source": [
    "# Serialize the Python dictionary into a JSON-formatted string\n",
    "json.dumps(RESPONSE_JSON)"
   ]
  },
  {
   "cell_type": "code",
   "execution_count": 43,
   "metadata": {},
   "outputs": [],
   "source": [
    "NUMBER=5 \n",
    "SUBJECT=\"deep learning\"\n",
    "TONE=\"advance\""
   ]
  },
  {
   "cell_type": "code",
   "execution_count": 44,
   "metadata": {},
   "outputs": [
    {
     "name": "stderr",
     "output_type": "stream",
     "text": [
      "c:\\Users\\Sheela Sai kumar\\Documents\\GenAI\\mcqgen\\env\\lib\\site-packages\\langchain_core\\_api\\deprecation.py:117: LangChainDeprecationWarning: The function `__call__` was deprecated in LangChain 0.1.0 and will be removed in 0.2.0. Use invoke instead.\n",
      "  warn_deprecated(\n"
     ]
    },
    {
     "name": "stdout",
     "output_type": "stream",
     "text": [
      "\n",
      "\n",
      "\u001b[1m> Entering new SequentialChain chain...\u001b[0m\n",
      "\n",
      "\n",
      "\u001b[1m> Entering new LLMChain chain...\u001b[0m\n",
      "Prompt after formatting:\n",
      "\u001b[32;1m\u001b[1;3m\n",
      "Text:Deep learning is the subset of machine learning methods based on artificial neural networks (ANNs) with representation learning. The adjective \"deep\" refers to the use of multiple layers in the network. Methods used can be either supervised, semi-supervised or unsupervised.[2]\n",
      "\n",
      "Deep-learning architectures such as deep neural networks, deep belief networks, recurrent neural networks, convolutional neural networks and transformers have been applied to fields including computer vision, speech recognition, natural language processing, machine translation, bioinformatics, drug design, medical image analysis, climate science, material inspection and board game programs, where they have produced results comparable to and in some cases surpassing human expert performance.[3][4][5]\n",
      "\n",
      "Artificial neural networks were inspired by information processing and distributed communication nodes in biological systems. ANNs have various differences from biological brains. Specifically, artificial neural networks tend to be static and symbolic, while the biological brain of most living organisms is dynamic (plastic) and analog.[6][7] ANNs are generally seen as low quality models for brain function.\n",
      "You are an expert MCQ maker. Given the above text, it is your job to create a quiz  of 5 multiple choice questions for deep learning students in advance tone. \n",
      "Make sure the questions are not repeated and check all the questions to be conforming the text as well.\n",
      "Make sure to format your response like  RESPONSE_JSON below  and use it as a guide. Ensure to make 5 MCQs\n",
      "### RESPONSE_JSON\n",
      "{\"1\": {\"mcq\": \"multiple choice question\", \"options\": {\"a\": \"choice here\", \"b\": \"choice here\", \"c\": \"choice here\", \"d\": \"choice here\"}, \"correct\": \"correct answer\"}, \"2\": {\"mcq\": \"multiple choice question\", \"options\": {\"a\": \"choice here\", \"b\": \"choice here\", \"c\": \"choice here\", \"d\": \"choice here\"}, \"correct\": \"correct answer\"}, \"3\": {\"mcq\": \"multiple choice question\", \"options\": {\"a\": \"choice here\", \"b\": \"choice here\", \"c\": \"choice here\", \"d\": \"choice here\"}, \"correct\": \"correct answer\"}}\n",
      "\n",
      "\u001b[0m\n",
      "\n",
      "\u001b[1m> Finished chain.\u001b[0m\n",
      "\n",
      "\n",
      "\u001b[1m> Entering new LLMChain chain...\u001b[0m\n",
      "Prompt after formatting:\n",
      "\u001b[32;1m\u001b[1;3m\n",
      "Text:Deep learning is the subset of machine learning methods based on artificial neural networks (ANNs) with representation learning. The adjective \"deep\" refers to the use of multiple layers in the network. Methods used can be either supervised, semi-supervised or unsupervised.[2]\n",
      "\n",
      "Deep-learning architectures such as deep neural networks, deep belief networks, recurrent neural networks, convolutional neural networks and transformers have been applied to fields including computer vision, speech recognition, natural language processing, machine translation, bioinformatics, drug design, medical image analysis, climate science, material inspection and board game programs, where they have produced results comparable to and in some cases surpassing human expert performance.[3][4][5]\n",
      "\n",
      "Artificial neural networks were inspired by information processing and distributed communication nodes in biological systems. ANNs have various differences from biological brains. Specifically, artificial neural networks tend to be static and symbolic, while the biological brain of most living organisms is dynamic (plastic) and analog.[6][7] ANNs are generally seen as low quality models for brain function.\n",
      "You are an expert MCQ maker. Given the above text, it is your job to create a quiz  of 5 multiple choice questions for deep learning students in advance tone. \n",
      "Make sure the questions are not repeated and check all the questions to be conforming the text as well.\n",
      "Make sure to format your response like  RESPONSE_JSON below  and use it as a guide. Ensure to make 5 MCQs\n",
      "### RESPONSE_JSON\n",
      "{\"1\": {\"mcq\": \"multiple choice question\", \"options\": {\"a\": \"choice here\", \"b\": \"choice here\", \"c\": \"choice here\", \"d\": \"choice here\"}, \"correct\": \"correct answer\"}, \"2\": {\"mcq\": \"multiple choice question\", \"options\": {\"a\": \"choice here\", \"b\": \"choice here\", \"c\": \"choice here\", \"d\": \"choice here\"}, \"correct\": \"correct answer\"}, \"3\": {\"mcq\": \"multiple choice question\", \"options\": {\"a\": \"choice here\", \"b\": \"choice here\", \"c\": \"choice here\", \"d\": \"choice here\"}, \"correct\": \"correct answer\"}}\n",
      "\n",
      "\u001b[0m\n",
      "\n",
      "\u001b[1m> Finished chain.\u001b[0m\n",
      "\n",
      "\u001b[1m> Finished chain.\u001b[0m\n"
     ]
    }
   ],
   "source": [
    "#https://python.langchain.com/docs/modules/model_io/llms/token_usage_tracking\n",
    "\n",
    "#How to setup Token Usage Tracking in LangChain\n",
    "with get_openai_callback() as cb:\n",
    "    response=generate_evaluate_chain(\n",
    "        {\n",
    "            \"text\": TEXT,\n",
    "            \"number\": NUMBER,\n",
    "            \"subject\":SUBJECT,\n",
    "            \"tone\": TONE,\n",
    "            \"response_json\": json.dumps(RESPONSE_JSON)\n",
    "        }\n",
    "        )"
   ]
  },
  {
   "cell_type": "code",
   "execution_count": 54,
   "metadata": {},
   "outputs": [
    {
     "data": {
      "text/plain": [
       "{'text': 'Deep learning is the subset of machine learning methods based on artificial neural networks (ANNs) with representation learning. The adjective \"deep\" refers to the use of multiple layers in the network. Methods used can be either supervised, semi-supervised or unsupervised.[2]\\n\\nDeep-learning architectures such as deep neural networks, deep belief networks, recurrent neural networks, convolutional neural networks and transformers have been applied to fields including computer vision, speech recognition, natural language processing, machine translation, bioinformatics, drug design, medical image analysis, climate science, material inspection and board game programs, where they have produced results comparable to and in some cases surpassing human expert performance.[3][4][5]\\n\\nArtificial neural networks were inspired by information processing and distributed communication nodes in biological systems. ANNs have various differences from biological brains. Specifically, artificial neural networks tend to be static and symbolic, while the biological brain of most living organisms is dynamic (plastic) and analog.[6][7] ANNs are generally seen as low quality models for brain function.',\n",
       " 'number': 5,\n",
       " 'subject': 'deep learning',\n",
       " 'tone': 'advance',\n",
       " 'response_json': '{\"1\": {\"mcq\": \"multiple choice question\", \"options\": {\"a\": \"choice here\", \"b\": \"choice here\", \"c\": \"choice here\", \"d\": \"choice here\"}, \"correct\": \"correct answer\"}, \"2\": {\"mcq\": \"multiple choice question\", \"options\": {\"a\": \"choice here\", \"b\": \"choice here\", \"c\": \"choice here\", \"d\": \"choice here\"}, \"correct\": \"correct answer\"}, \"3\": {\"mcq\": \"multiple choice question\", \"options\": {\"a\": \"choice here\", \"b\": \"choice here\", \"c\": \"choice here\", \"d\": \"choice here\"}, \"correct\": \"correct answer\"}}',\n",
       " 'quiz': '```json\\n{\\n  \"1\": {\\n    \"mcq\": \"What is the subset of machine learning methods based on artificial neural networks with representation learning?\",\\n    \"options\": {\\n      \"a\": \"Deep learning\",\\n      \"b\": \"Supervised learning\",\\n      \"c\": \"Semi-supervised learning\",\\n      \"d\": \"Unsupervised learning\"\\n    },\\n    \"correct\": \"a\"\\n  },\\n  \"2\": {\\n    \"mcq\": \"Which of the following is not a deep learning architecture: deep neural networks, deep belief networks, recurrent neural networks, convolutional neural networks or transformers?\",\\n    \"options\": {\\n      \"a\": \"deep neural networks\",\\n      \"b\": \"deep belief networks\",\\n      \"c\": \"recurrent neural networks\",\\n      \"d\": \"convolutional neural networks\",\\n      \"e\": \"transformers\"\\n    },\\n    \"correct\": \"e\"\\n  },\\n  \"3\": {\\n    \"mcq\": \"What are the differences between artificial neural networks and biological brains?\",\\n    \"options\": {\\n      \"a\": \"Artificial neural networks tend to be static and symbolic, while the biological brain of most living organisms is dynamic (plastic) and analog\",\\n      \"b\": \"Artificial neural networks tend to be dynamic (plastic) and analog, while the biological brain of most living organisms is static and symbolic\",\\n      \"c\": \"Artificial neural networks are better at learning than biological brains\",\\n      \"d\": \"Biological brains are better at learning than artificial neural networks\"\\n    },\\n    \"correct\": \"a\"\\n  },\\n  \"4\": {\\n    \"mcq\": \"Which of the following fields has not been applied deep learning architectures: computer vision, speech recognition, natural language processing, machine translation, bioinformatics, drug design, medical image analysis, climate science, material inspection or board game programs?\",\\n    \"options\": {\\n      \"a\": \"computer vision\",\\n      \"b\": \"speech recognition\",\\n      \"c\": \"natural language processing\",\\n      \"d\": \"machine translation\",\\n      \"e\": \"bioinformatics\",\\n      \"f\": \"drug design\",\\n      \"g\": \"medical image analysis\",\\n      \"h\": \"climate science\",\\n      \"i\": \"material inspection\",\\n      \"j\": \"board game programs\"\\n    },\\n    \"correct\": \"j\"\\n  },\\n  \"5\": {\\n    \"mcq\": \"Which of the following is not a low quality model for brain function: artificial neural networks, biological brains, deep learning architectures or transformers?\",\\n    \"options\": {\\n      \"a\": \"artificial neural networks\",\\n      \"b\": \"biological brains\",\\n      \"c\": \"deep learning architectures\",\\n      \"d\": \"transformers\"\\n    },\\n    \"correct\": \"a\"\\n  }\\n}\\n```',\n",
       " 'review': '```json\\n{\\n  \"1\": {\\n    \"mcq\": \"What is the subset of machine learning methods based on artificial neural networks with representation learning?\",\\n    \"options\": {\\n      \"a\": \"Deep learning\",\\n      \"b\": \"Supervised learning\",\\n      \"c\": \"Semi-supervised learning\",\\n      \"d\": \"Unsupervised learning\"\\n    },\\n    \"correct\": \"a\"\\n  },\\n  \"2\": {\\n    \"mcq\": \"Which of the following is not a deep learning architecture: deep neural networks, deep belief networks, recurrent neural networks, convolutional neural networks or transformers?\",\\n    \"options\": {\\n      \"a\": \"deep neural networks\",\\n      \"b\": \"deep belief networks\",\\n      \"c\": \"recurrent neural networks\",\\n      \"d\": \"convolutional neural networks\",\\n      \"e\": \"transformers\"\\n    },\\n    \"correct\": \"e\"\\n  },\\n  \"3\": {\\n    \"mcq\": \"What are the differences between artificial neural networks and biological brains?\",\\n    \"options\": {\\n      \"a\": \"Artificial neural networks tend to be static and symbolic, while the biological brain of most living organisms is dynamic (plastic) and analog\",\\n      \"b\": \"Artificial neural networks tend to be dynamic (plastic) and analog, while the biological brain of most living organisms is static and symbolic\",\\n      \"c\": \"Artificial neural networks are better at learning than biological brains\",\\n      \"d\": \"Biological brains are better at learning than artificial neural networks\"\\n    },\\n    \"correct\": \"a\"\\n  },\\n  \"4\": {\\n    \"mcq\": \"Which of the following fields has not been applied deep learning architectures: computer vision, speech recognition, natural language processing, machine translation, bioinformatics, drug design, medical image analysis, climate science, material inspection or board game programs?\",\\n    \"options\": {\\n      \"a\": \"computer vision\",\\n      \"b\": \"speech recognition\",\\n      \"c\": \"natural language processing\",\\n      \"d\": \"machine translation\",\\n      \"e\": \"bioinformatics\",\\n      \"f\": \"drug design\",\\n      \"g\": \"medical image analysis\",\\n      \"h\": \"climate science\",\\n      \"i\": \"material inspection\",\\n      \"j\": \"board game programs\"\\n    },\\n    \"correct\": \"j\"\\n  },\\n  \"5\": {\\n    \"mcq\": \"Which of the following is not a low quality model for brain function: artificial neural networks, biological brains, deep learning architectures or transformers?\",\\n    \"options\": {\\n      \"a\": \"artificial neural networks\",\\n      \"b\": \"biological brains\",\\n      \"c\": \"deep learning architectures\",\\n      \"d\": \"transformers\"\\n    },\\n    \"correct\": \"a\"\\n  }\\n}\\n```'}"
      ]
     },
     "execution_count": 54,
     "metadata": {},
     "output_type": "execute_result"
    }
   ],
   "source": [
    "response"
   ]
  },
  {
   "cell_type": "code",
   "execution_count": 59,
   "metadata": {},
   "outputs": [],
   "source": [
    "quiz=response[\"quiz\"]"
   ]
  },
  {
   "cell_type": "code",
   "execution_count": 60,
   "metadata": {},
   "outputs": [
    {
     "name": "stdout",
     "output_type": "stream",
     "text": [
      "```json\n",
      "{\n",
      "  \"1\": {\n",
      "    \"mcq\": \"What is the subset of machine learning methods based on artificial neural networks with representation learning?\",\n",
      "    \"options\": {\n",
      "      \"a\": \"Deep learning\",\n",
      "      \"b\": \"Supervised learning\",\n",
      "      \"c\": \"Semi-supervised learning\",\n",
      "      \"d\": \"Unsupervised learning\"\n",
      "    },\n",
      "    \"correct\": \"a\"\n",
      "  },\n",
      "  \"2\": {\n",
      "    \"mcq\": \"Which of the following is not a deep learning architecture: deep neural networks, deep belief networks, recurrent neural networks, convolutional neural networks or transformers?\",\n",
      "    \"options\": {\n",
      "      \"a\": \"deep neural networks\",\n",
      "      \"b\": \"deep belief networks\",\n",
      "      \"c\": \"recurrent neural networks\",\n",
      "      \"d\": \"convolutional neural networks\",\n",
      "      \"e\": \"transformers\"\n",
      "    },\n",
      "    \"correct\": \"e\"\n",
      "  },\n",
      "  \"3\": {\n",
      "    \"mcq\": \"What are the differences between artificial neural networks and biological brains?\",\n",
      "    \"options\": {\n",
      "      \"a\": \"Artificial neural networks tend to be static and symbolic, while the biological brain of most living organisms is dynamic (plastic) and analog\",\n",
      "      \"b\": \"Artificial neural networks tend to be dynamic (plastic) and analog, while the biological brain of most living organisms is static and symbolic\",\n",
      "      \"c\": \"Artificial neural networks are better at learning than biological brains\",\n",
      "      \"d\": \"Biological brains are better at learning than artificial neural networks\"\n",
      "    },\n",
      "    \"correct\": \"a\"\n",
      "  },\n",
      "  \"4\": {\n",
      "    \"mcq\": \"Which of the following fields has not been applied deep learning architectures: computer vision, speech recognition, natural language processing, machine translation, bioinformatics, drug design, medical image analysis, climate science, material inspection or board game programs?\",\n",
      "    \"options\": {\n",
      "      \"a\": \"computer vision\",\n",
      "      \"b\": \"speech recognition\",\n",
      "      \"c\": \"natural language processing\",\n",
      "      \"d\": \"machine translation\",\n",
      "      \"e\": \"bioinformatics\",\n",
      "      \"f\": \"drug design\",\n",
      "      \"g\": \"medical image analysis\",\n",
      "      \"h\": \"climate science\",\n",
      "      \"i\": \"material inspection\",\n",
      "      \"j\": \"board game programs\"\n",
      "    },\n",
      "    \"correct\": \"j\"\n",
      "  },\n",
      "  \"5\": {\n",
      "    \"mcq\": \"Which of the following is not a low quality model for brain function: artificial neural networks, biological brains, deep learning architectures or transformers?\",\n",
      "    \"options\": {\n",
      "      \"a\": \"artificial neural networks\",\n",
      "      \"b\": \"biological brains\",\n",
      "      \"c\": \"deep learning architectures\",\n",
      "      \"d\": \"transformers\"\n",
      "    },\n",
      "    \"correct\": \"a\"\n",
      "  }\n",
      "}\n",
      "```\n"
     ]
    }
   ],
   "source": [
    "print(quiz)"
   ]
  },
  {
   "cell_type": "code",
   "execution_count": 74,
   "metadata": {},
   "outputs": [],
   "source": [
    "quiz2 = quiz.strip(\"```json\")"
   ]
  },
  {
   "cell_type": "code",
   "execution_count": 76,
   "metadata": {},
   "outputs": [],
   "source": [
    "quiz_json = json.loads(quiz2)\n"
   ]
  },
  {
   "cell_type": "code",
   "execution_count": 78,
   "metadata": {},
   "outputs": [
    {
     "name": "stdout",
     "output_type": "stream",
     "text": [
      "{'1': {'mcq': 'What is the subset of machine learning methods based on artificial neural networks with representation learning?', 'options': {'a': 'Deep learning', 'b': 'Supervised learning', 'c': 'Semi-supervised learning', 'd': 'Unsupervised learning'}, 'correct': 'a'}, '2': {'mcq': 'Which of the following is not a deep learning architecture: deep neural networks, deep belief networks, recurrent neural networks, convolutional neural networks or transformers?', 'options': {'a': 'deep neural networks', 'b': 'deep belief networks', 'c': 'recurrent neural networks', 'd': 'convolutional neural networks', 'e': 'transformers'}, 'correct': 'e'}, '3': {'mcq': 'What are the differences between artificial neural networks and biological brains?', 'options': {'a': 'Artificial neural networks tend to be static and symbolic, while the biological brain of most living organisms is dynamic (plastic) and analog', 'b': 'Artificial neural networks tend to be dynamic (plastic) and analog, while the biological brain of most living organisms is static and symbolic', 'c': 'Artificial neural networks are better at learning than biological brains', 'd': 'Biological brains are better at learning than artificial neural networks'}, 'correct': 'a'}, '4': {'mcq': 'Which of the following fields has not been applied deep learning architectures: computer vision, speech recognition, natural language processing, machine translation, bioinformatics, drug design, medical image analysis, climate science, material inspection or board game programs?', 'options': {'a': 'computer vision', 'b': 'speech recognition', 'c': 'natural language processing', 'd': 'machine translation', 'e': 'bioinformatics', 'f': 'drug design', 'g': 'medical image analysis', 'h': 'climate science', 'i': 'material inspection', 'j': 'board game programs'}, 'correct': 'j'}, '5': {'mcq': 'Which of the following is not a low quality model for brain function: artificial neural networks, biological brains, deep learning architectures or transformers?', 'options': {'a': 'artificial neural networks', 'b': 'biological brains', 'c': 'deep learning architectures', 'd': 'transformers'}, 'correct': 'a'}}\n"
     ]
    }
   ],
   "source": [
    "print(quiz_json)"
   ]
  },
  {
   "cell_type": "code",
   "execution_count": 79,
   "metadata": {},
   "outputs": [],
   "source": [
    "quiz_table_data = []\n",
    "for key, value in quiz_json.items():\n",
    "    mcq = value[\"mcq\"]\n",
    "    options = \" | \".join(\n",
    "        [\n",
    "            f\"{option}: {option_value}\"\n",
    "            for option, option_value in value[\"options\"].items()\n",
    "            ]\n",
    "        )\n",
    "    correct = value[\"correct\"]\n",
    "    quiz_table_data.append({\"MCQ\": mcq, \"Choices\": options, \"Correct\": correct})"
   ]
  },
  {
   "cell_type": "code",
   "execution_count": 80,
   "metadata": {},
   "outputs": [
    {
     "data": {
      "text/plain": [
       "[{'MCQ': 'What is the subset of machine learning methods based on artificial neural networks with representation learning?',\n",
       "  'Choices': 'a: Deep learning | b: Supervised learning | c: Semi-supervised learning | d: Unsupervised learning',\n",
       "  'Correct': 'a'},\n",
       " {'MCQ': 'Which of the following is not a deep learning architecture: deep neural networks, deep belief networks, recurrent neural networks, convolutional neural networks or transformers?',\n",
       "  'Choices': 'a: deep neural networks | b: deep belief networks | c: recurrent neural networks | d: convolutional neural networks | e: transformers',\n",
       "  'Correct': 'e'},\n",
       " {'MCQ': 'What are the differences between artificial neural networks and biological brains?',\n",
       "  'Choices': 'a: Artificial neural networks tend to be static and symbolic, while the biological brain of most living organisms is dynamic (plastic) and analog | b: Artificial neural networks tend to be dynamic (plastic) and analog, while the biological brain of most living organisms is static and symbolic | c: Artificial neural networks are better at learning than biological brains | d: Biological brains are better at learning than artificial neural networks',\n",
       "  'Correct': 'a'},\n",
       " {'MCQ': 'Which of the following fields has not been applied deep learning architectures: computer vision, speech recognition, natural language processing, machine translation, bioinformatics, drug design, medical image analysis, climate science, material inspection or board game programs?',\n",
       "  'Choices': 'a: computer vision | b: speech recognition | c: natural language processing | d: machine translation | e: bioinformatics | f: drug design | g: medical image analysis | h: climate science | i: material inspection | j: board game programs',\n",
       "  'Correct': 'j'},\n",
       " {'MCQ': 'Which of the following is not a low quality model for brain function: artificial neural networks, biological brains, deep learning architectures or transformers?',\n",
       "  'Choices': 'a: artificial neural networks | b: biological brains | c: deep learning architectures | d: transformers',\n",
       "  'Correct': 'a'}]"
      ]
     },
     "execution_count": 80,
     "metadata": {},
     "output_type": "execute_result"
    }
   ],
   "source": [
    "quiz_table_data"
   ]
  },
  {
   "cell_type": "code",
   "execution_count": 81,
   "metadata": {},
   "outputs": [],
   "source": [
    "quiz=pd.DataFrame(quiz_table_data)"
   ]
  },
  {
   "cell_type": "code",
   "execution_count": 82,
   "metadata": {},
   "outputs": [
    {
     "data": {
      "text/html": [
       "<div>\n",
       "<style scoped>\n",
       "    .dataframe tbody tr th:only-of-type {\n",
       "        vertical-align: middle;\n",
       "    }\n",
       "\n",
       "    .dataframe tbody tr th {\n",
       "        vertical-align: top;\n",
       "    }\n",
       "\n",
       "    .dataframe thead th {\n",
       "        text-align: right;\n",
       "    }\n",
       "</style>\n",
       "<table border=\"1\" class=\"dataframe\">\n",
       "  <thead>\n",
       "    <tr style=\"text-align: right;\">\n",
       "      <th></th>\n",
       "      <th>MCQ</th>\n",
       "      <th>Choices</th>\n",
       "      <th>Correct</th>\n",
       "    </tr>\n",
       "  </thead>\n",
       "  <tbody>\n",
       "    <tr>\n",
       "      <th>0</th>\n",
       "      <td>What is the subset of machine learning methods...</td>\n",
       "      <td>a: Deep learning | b: Supervised learning | c:...</td>\n",
       "      <td>a</td>\n",
       "    </tr>\n",
       "    <tr>\n",
       "      <th>1</th>\n",
       "      <td>Which of the following is not a deep learning ...</td>\n",
       "      <td>a: deep neural networks | b: deep belief netwo...</td>\n",
       "      <td>e</td>\n",
       "    </tr>\n",
       "    <tr>\n",
       "      <th>2</th>\n",
       "      <td>What are the differences between artificial ne...</td>\n",
       "      <td>a: Artificial neural networks tend to be stati...</td>\n",
       "      <td>a</td>\n",
       "    </tr>\n",
       "    <tr>\n",
       "      <th>3</th>\n",
       "      <td>Which of the following fields has not been app...</td>\n",
       "      <td>a: computer vision | b: speech recognition | c...</td>\n",
       "      <td>j</td>\n",
       "    </tr>\n",
       "    <tr>\n",
       "      <th>4</th>\n",
       "      <td>Which of the following is not a low quality mo...</td>\n",
       "      <td>a: artificial neural networks | b: biological ...</td>\n",
       "      <td>a</td>\n",
       "    </tr>\n",
       "  </tbody>\n",
       "</table>\n",
       "</div>"
      ],
      "text/plain": [
       "                                                 MCQ  \\\n",
       "0  What is the subset of machine learning methods...   \n",
       "1  Which of the following is not a deep learning ...   \n",
       "2  What are the differences between artificial ne...   \n",
       "3  Which of the following fields has not been app...   \n",
       "4  Which of the following is not a low quality mo...   \n",
       "\n",
       "                                             Choices Correct  \n",
       "0  a: Deep learning | b: Supervised learning | c:...       a  \n",
       "1  a: deep neural networks | b: deep belief netwo...       e  \n",
       "2  a: Artificial neural networks tend to be stati...       a  \n",
       "3  a: computer vision | b: speech recognition | c...       j  \n",
       "4  a: artificial neural networks | b: biological ...       a  "
      ]
     },
     "execution_count": 82,
     "metadata": {},
     "output_type": "execute_result"
    }
   ],
   "source": [
    "quiz.head()"
   ]
  },
  {
   "cell_type": "code",
   "execution_count": 84,
   "metadata": {},
   "outputs": [],
   "source": [
    "quiz.to_csv(\"deeplearning.csv\",index=False)"
   ]
  },
  {
   "cell_type": "code",
   "execution_count": null,
   "metadata": {},
   "outputs": [],
   "source": []
  }
 ],
 "metadata": {
  "kernelspec": {
   "display_name": "Python 3",
   "language": "python",
   "name": "python3"
  },
  "language_info": {
   "codemirror_mode": {
    "name": "ipython",
    "version": 3
   },
   "file_extension": ".py",
   "mimetype": "text/x-python",
   "name": "python",
   "nbconvert_exporter": "python",
   "pygments_lexer": "ipython3",
   "version": "3.8.18"
  }
 },
 "nbformat": 4,
 "nbformat_minor": 2
}
